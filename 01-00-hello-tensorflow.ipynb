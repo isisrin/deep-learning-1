{
 "cells": [
  {
   "cell_type": "code",
   "execution_count": 12,
   "metadata": {},
   "outputs": [
    {
     "name": "stdout",
     "output_type": "stream",
     "text": [
      "6.0\n",
      "20.0\n",
      "[  6.  20.]\n",
      "[ 6.  8.]\n",
      "[ 6.  8.]\n",
      "[[  6.  20.]\n",
      " [ 10.  30.]]\n"
     ]
    }
   ],
   "source": [
    "import tensorflow as tf\n",
    "\n",
    "a = tf.placeholder(\"float\")\n",
    "b = tf.placeholder(\"float\")\n",
    "\n",
    "y = a * b # tf.multiply(a, b)\n",
    "\n",
    "sess = tf.Session()\n",
    "\n",
    "print(sess.run(y, feed_dict = {a: 3, b:2}))\n",
    "print(sess.run(y, feed_dict = {a: 4, b:5}))\n",
    "print(sess.run(y, feed_dict = {a: [3, 4], b: [2, 5]}))\n",
    "print(sess.run(y, feed_dict = {a: [3, 4], b: 2}))\n",
    "print(sess.run(y, feed_dict = {a: [3, 4], b: [2]}))\n",
    "print(sess.run(y, feed_dict = {a: [[3, 4], [5, 6]], b: [2, 5]}))"
   ]
  },
  {
   "cell_type": "code",
   "execution_count": 4,
   "metadata": {
    "collapsed": true
   },
   "outputs": [],
   "source": [
    "tf.placeholder?"
   ]
  },
  {
   "cell_type": "code",
   "execution_count": 5,
   "metadata": {
    "collapsed": true
   },
   "outputs": [],
   "source": [
    "sess.run?"
   ]
  }
 ],
 "metadata": {
  "kernelspec": {
   "display_name": "Python 3",
   "language": "python",
   "name": "python3"
  },
  "language_info": {
   "codemirror_mode": {
    "name": "ipython",
    "version": 3
   },
   "file_extension": ".py",
   "mimetype": "text/x-python",
   "name": "python",
   "nbconvert_exporter": "python",
   "pygments_lexer": "ipython3",
   "version": "3.6.1"
  }
 },
 "nbformat": 4,
 "nbformat_minor": 2
}
